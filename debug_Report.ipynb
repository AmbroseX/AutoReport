{
 "cells": [
  {
   "cell_type": "code",
   "execution_count": 1,
   "metadata": {},
   "outputs": [],
   "source": [
    "# encoding=utf8\n",
    "import requests\n",
    "import urllib.request\n",
    "import json\n",
    "import time\n",
    "import datetime\n",
    "import pytz\n",
    "import re\n",
    "# import sys\n",
    "# import argparse\n",
    "from bs4 import BeautifulSoup\n",
    "\n",
    "stuid = '***'\n",
    "password = '***'"
   ]
  },
  {
   "cell_type": "code",
   "execution_count": 2,
   "metadata": {},
   "outputs": [
    {
     "name": "stderr",
     "output_type": "stream",
     "text": [
      "\n",
      "KeyboardInterrupt\n",
      "\n"
     ]
    }
   ],
   "source": [
    "url_login = \"https://passport.ustc.edu.cn/login?service=https%3A%2F%2Fweixine.ustc.edu.cn%2F2020%2Fcaslogin\"\n",
    "url_report = \"https://weixine.ustc.edu.cn/2020/home\"\n",
    "url_total = \"https://weixine.ustc.edu.cn/2020/apply_total?t=d\"\n",
    "\n",
    "\n",
    "html_login = requests.get(url_login)\n",
    "html_login.encoding = 'utf-8'\n",
    "soup_login = BeautifulSoup(str(html_login.text), 'html.parser')\n",
    "\n",
    "print(soup_login.title.text)\n",
    "\n",
    "res=soup_login.prettify() #处理好缩进，结构化显\n",
    "CAS_LT = soup_login.find('input',id=\"CAS_LT\")['value'] # get CAS_LT\n",
    "print(CAS_LT)\n",
    "print(html_login.cookies)\n",
    "cookie_login = 'lang=zh; JSESSIONID='+html_login.cookies['JSESSIONID']\n",
    "print(cookie_login)\n"
   ]
  },
  {
   "cell_type": "code",
   "execution_count": null,
   "metadata": {},
   "outputs": [],
   "source": [
    "data_login = {\n",
    "        'CAS_LT': CAS_LT,\n",
    "        'model': 'uplogin.jsp',\n",
    "        'service': 'https://weixine.ustc.edu.cn/2020/caslogin',\n",
    "        'username': stuid,\n",
    "        'password': str(password),\n",
    "    }\n",
    "\n",
    "headers_login = {\n",
    "# 'Accept': 'text/html,application/xhtml+xml,application/xml;q=0.9,image/avif,image/webp,image/apng,*/*;q=0.8,application/signed-exchange;v=b3;q=0.9',\n",
    "# 'Accept-Encoding': 'gzip, deflate, br',\n",
    "# 'Accept-Language': 'zh-CN,zh;q=0.9',\n",
    "# 'Cache-Control': 'max-age=0',\n",
    "# 'Connection': 'keep-alive',\n",
    "'Cookie': cookie_login,\n",
    "# 'Host': 'passport.ustc.edu.cn',\n",
    "# 'Referer': 'https://weixine.ustc.edu.cn/',\n",
    "# 'Sec-Fetch-Dest': 'document',\n",
    "# 'Sec-Fetch-Mode': 'navigate',\n",
    "# 'Sec-Fetch-Site': 'same-site',\n",
    "# 'Sec-Fetch-User': '1',\n",
    "# 'Sec-GPC': '1',\n",
    "# 'Upgrade-Insecure-Requests': '1',\n",
    "'User-Agent': 'Mozilla/5.0 (Linux; Android 6.0; Nexus 5 Build/MRA58N) AppleWebKit/537.36 (KHTML, like Gecko) Chrome/99.0.4844.83 Mobile Safari/537.36'\n",
    "}\n",
    "\n",
    "session = requests.Session()\n",
    "response_report = session.post(url_login,headers=headers_login, data=data_login)\n",
    "\n",
    "getform = session.get(\"https://passport.ustc.edu.cn/login?service=https%3A%2F%2Fweixine.ustc.edu.cn%2F2020%2Fcaslogin\")\n",
    "\n",
    "data = getform.text\n",
    "data = data.encode('ascii','ignore').decode('utf-8','ignore')\n",
    "soup = BeautifulSoup(data, 'html.parser')\n",
    "token = soup.find(\"input\", {\"name\": \"_token\"})['value']\n",
    "\n",
    "# response_report = requests.post(url_login,headers=headers_login, data=data_login)\n",
    "if response_report.url != url_report:\n",
    "     print(\"Login Failed! Retry...\")\n",
    "else:\n",
    "    print(\"Login Successful!\")\n",
    "    loginsuccess = True\n",
    "\n",
    "cookies_report = session.cookies\n",
    "PHPSESSID = cookies_report['PHPSESSID']\n",
    "\n",
    "# report_html = response_report.text\n",
    "# print(response.url)\n",
    "# print(response.text)"
   ]
  },
  {
   "cell_type": "code",
   "execution_count": null,
   "metadata": {},
   "outputs": [],
   "source": [
    "print(session.cookies)\n",
    "# print(response_report.cookies.get(\"PHPSESSID\"))"
   ]
  },
  {
   "cell_type": "code",
   "execution_count": null,
   "metadata": {},
   "outputs": [],
   "source": [
    "headers_report = {\n",
    "            'authority': 'weixine.ustc.edu.cn',\n",
    "            'origin': 'http://weixine.ustc.edu.cn',\n",
    "            'upgrade-insecure-requests': '1',\n",
    "            'content-type': 'application/x-www-form-urlencoded',\n",
    "            'user-agent': 'Mozilla/5.0 (Linux; Android 6.0; Nexus 5 Build/MRA58N) AppleWebKit/537.36 (KHTML, like Gecko) Chrome/99.0.4844.83 Mobile Safari/537.36',\n",
    "            'accept': 'text/html,application/xhtml+xml,application/xml;q=0.9,image/webp,image/apng,*/*;q=0.8,application/signed-exchange;v=b3;q=0.9',\n",
    "            'referer': 'https://passport.ustc.edu.cn/',\n",
    "            'accept-language': 'zh-CN,zh;q=0.9',\n",
    "            'cookie': 'PHPSESSID=' + cookies_report.get(\"PHPSESSID\") + \";XSRF-TOKEN=\" + cookies_report.get(\"XSRF-TOKEN\") + \";laravel_session=\"+cookies_report.get(\"laravel_session\"),\n",
    "            'referer': 'https://weixine.ustc.edu.cn/2020/home',\n",
    "            'sec-fetch-dest': 'document',\n",
    "            'sec-fetch-mode': 'navigate',\n",
    "            'sec-fetch-site': 'same-origin',\n",
    "            'sec-fetch-user': '1',\n",
    "            'sec-gpc': '1',\n",
    "            'upgrade-insecure-requests': '1'\n",
    "        }\n"
   ]
  },
  {
   "cell_type": "code",
   "execution_count": null,
   "metadata": {},
   "outputs": [],
   "source": [
    "data = session.get(url_report).text\n",
    "# print(data)\n",
    "soup = BeautifulSoup(data, 'html.parser')\n",
    "# print(soup)\n",
    "pattern = re.compile(\"2022-[0-9]{2}-[0-9]{2} [0-9]{2}:[0-9]{2}:[0-9]{2}\")\n",
    "# last_time_report = soup.find(\"span\", {\"上次上报时间\"})\n",
    "# last_time_report = soup.find(\"span\", {\"style\": \"position: relative; top: 5px; color: #666;\"}).text\n",
    "# print(last_time_report)\n",
    "\n",
    "body_condition = soup.find(\"select\",id=\"body-condition\")\n",
    "body_condition_choose = body_condition.find_all(\"option\",selected = True)[0][\"value\"]\n",
    "print(body_condition_choose)\n",
    "\n",
    "now_status = soup.find(\"select\",id=\"body-status\")\n",
    "now_status_choose = now_status.find_all(\"option\",selected = True)[0][\"value\"]\n",
    "if now_status_choose == \"2\":\n",
    "    now_status_choose = \"1\"\n",
    "print(now_status_choose)"
   ]
  },
  {
   "cell_type": "code",
   "execution_count": null,
   "metadata": {},
   "outputs": [],
   "source": [
    "text_danger = soup.find(\"input\",{\"name\":\"jinji_lxr\"})[\"value\"]\n",
    "print(text_danger)\n",
    "text_danger_relation = soup.find(\"input\",{\"name\":\"jinji_guanxi\"})[\"value\"]\n",
    "print(text_danger_relation )\n",
    "text_danger_mobile = soup.find(\"input\",{\"name\":\"jiji_mobile\"})[\"value\"]\n",
    "print(text_danger_mobile)"
   ]
  },
  {
   "cell_type": "code",
   "execution_count": null,
   "metadata": {},
   "outputs": [],
   "source": [
    "dorm_building = soup.find(\"input\",{\"name\":\"dorm_building\"})[\"value\"]\n",
    "dorm = soup.find(\"input\",{\"name\":\"dorm\"})[\"value\"]"
   ]
  },
  {
   "cell_type": "code",
   "execution_count": null,
   "metadata": {},
   "outputs": [],
   "source": [
    "data_report = {\n",
    "    \"juzhudi\": \"西校区\",\n",
    "\t\"dorm_building\": dorm_building,\n",
    "\t\"dorm\": dorm,\n",
    "\t\"body_condition\": \"1\",\n",
    "\t\"body_condition_detail\": \"\",\n",
    "\t\"now_status\": \"1\",\n",
    "\t\"now_status_detail\": \"\",\n",
    "\t\"has_fever\": \"0\",\n",
    "\t\"last_touch_sars\": \"0\",\n",
    "\t\"last_touch_sars_date\": \"\",\n",
    "\t\"last_touch_sars_detail\": \"\",\n",
    "\t\"is_danger\": \"0\",\n",
    "\t\"is_goto_danger\": 0,\n",
    "\t\"jinji_lxr\": text_danger,\n",
    "\t\"jinji_guanxi\": text_danger_relation,\n",
    "\t\"jiji_mobile\": text_danger_mobile,\n",
    "    \"other_detail\": \"\",\n",
    "\t\"_token\": token\n",
    "}\n"
   ]
  },
  {
   "cell_type": "code",
   "execution_count": null,
   "metadata": {},
   "outputs": [],
   "source": [
    "session.post(\"https://weixine.ustc.edu.cn/2020/daliy_report\", data=data_report, headers=headers_report)"
   ]
  },
  {
   "cell_type": "code",
   "execution_count": null,
   "metadata": {},
   "outputs": [],
   "source": [
    "reason = 3\n",
    "# value=1 离校前往合肥市包河、庐阳、蜀山、瑶海区以外\n",
    "# value=2 前往合肥市包河、庐阳、蜀山、瑶海区范围内校外</span>\n",
    "# value=3 前往东西南北中校区</span>\n",
    "# value=4 前往高新校区、先研院、国金院\n",
    "data_apply = {\n",
    "'_token': token,\n",
    "'start_date': '2022-03-27 00:14:05',\n",
    "'end_date': '2022-03-27 23:59:59',\n",
    "'return_college[]': '东校区',\n",
    "'return_college[]': '西校区',\n",
    "'return_college[]': '南校区',\n",
    "'return_college[]': '北校区',\n",
    "'return_college[]': '中校区',\n",
    "\"t\": str(reason)\n",
    "}\n",
    "\n",
    "headers_apply = {\n",
    "'authority': 'weixine.ustc.edu.cn',\n",
    "'origin': 'http://weixine.ustc.edu.cn',\n",
    "'upgrade-insecure-requests': '1',\n",
    "'content-type': 'application/x-www-form-urlencoded',\n",
    "'user-agent': 'Mozilla/5.0 (Linux; Android 6.0; Nexus 5 Build/MRA58N) AppleWebKit/537.36 (KHTML, like Gecko) Chrome/99.0.4844.83 Mobile Safari/537.36',\n",
    "'accept': 'text/html,application/xhtml+xml,application/xml;q=0.9,image/webp,image/apng,*/*;q=0.8,application/signed-exchange;v=b3;q=0.9',\n",
    "'accept-language': 'zh-CN,zh;q=0.9',\n",
    "'cookie': 'PHPSESSID=' + cookies_report.get(\"PHPSESSID\") + \";XSRF-TOKEN=\" + cookies_report.get(\"XSRF-TOKEN\") + \";laravel_session=\"+cookies_report.get(\"laravel_session\"),\n",
    "'referer': 'https://weixine.ustc.edu.cn/2020/stayinout_apply?t='+str(reason),\n",
    "'sec-fetch-dest': 'document',\n",
    "'sec-fetch-mode': 'navigate',\n",
    "'sec-fetch-site': 'same-origin',\n",
    "'sec-fetch-user': '?1',\n",
    "'sec-gpc': '1',\n",
    "'upgrade-insecure-requests': '1'\n",
    "}"
   ]
  },
  {
   "cell_type": "code",
   "execution_count": null,
   "metadata": {},
   "outputs": [],
   "source": [
    "url_apply = \"https://weixine.ustc.edu.cn/2020/apply/daliy/ipost\"\n",
    "data = session.post(url_apply,data =data_apply,headers=headers_apply).text\n",
    "data = data.encode('ascii','ignore').decode('utf-8','ignore')\n",
    "soup_apply = BeautifulSoup(data, 'html.parser')\n",
    "print(soup_apply)\n",
    "res = soup_apply.prettify()\n",
    "if (len(res)>1000):\n",
    "    print(\"Report Success!\")\n",
    "else:\n",
    "    print(\"Report failed!\")\n",
    "# print(res)"
   ]
  },
  {
   "cell_type": "code",
   "execution_count": null,
   "metadata": {},
   "outputs": [],
   "source": [
    "## 上报时间更新\n",
    "url_total = \"https://weixine.ustc.edu.cn/2020/apply_total?t=d\"\n",
    "data = session.get(url_total).text\n",
    "data = data.encode('ascii','ignore').decode('utf-8','ignore')\n",
    "soup_total = BeautifulSoup(data, 'html.parser')\n",
    "\n",
    "text_time = soup_total.tbody.tr.td.next_element.next_element.next_element.next_element.next_element.next_element.next_element.next_element.next_element\n",
    "\n",
    "print(text_time)\n",
    "\n",
    "# <tbody\n",
    "# <tr>\n",
    "# <td>2022-05-12 17:32:14</td>\n",
    "# <td>2022-05-12 23:59:59</td>\n",
    "# <td></td>\n",
    "# <td>2022-05-12 17:32:14</td>"
   ]
  },
  {
   "cell_type": "code",
   "execution_count": 23,
   "metadata": {},
   "outputs": [
    {
     "name": "stdout",
     "output_type": "stream",
     "text": [
      "2022-05-21 15:55:38\n",
      "15.416666666666666 hours\n"
     ]
    }
   ],
   "source": [
    "import datetime\n",
    "import pytz\n",
    "import time\n",
    "date = '*上次上报时间：2022-03-27 00:30:35，请每日按时打卡'\n",
    "lasttime = date.strip('*上次上报时间：').strip('，请每日按时打卡')\n",
    "\n",
    "timenow = datetime.datetime.now(pytz.timezone('Asia/Shanghai')).strftime('%Y-%m-%d %H:%M:%S')\n",
    "\n",
    "\n",
    "delta = ((datetime.datetime.strptime(timenow,'%Y-%m-%d %H:%M:%S') - datetime.datetime.strptime(lasttime,'%Y-%m-%d %H:%M:%S')).seconds//60)/60\n",
    "\n",
    "\n",
    "print(timenow)\n",
    "print(delta,\"hours\")"
   ]
  },
  {
   "cell_type": "code",
   "execution_count": null,
   "metadata": {},
   "outputs": [],
   "source": [
    "a = datetime.datetime.now(pytz.timezone('Asia/Shanghai'))\n",
    "time.sleep(2)\n",
    "b = datetime.datetime.now(pytz.timezone('Asia/Shanghai'))\n",
    "(b-a).days"
   ]
  },
  {
   "cell_type": "code",
   "execution_count": 22,
   "metadata": {},
   "outputs": [],
   "source": [
    "import datetime\n",
    "import pytz\n",
    "import time\n",
    "timenow = datetime.datetime.now(pytz.timezone('Asia/Shanghai')).strftime('%Y-%m-%d')\n",
    "current_year = int(datetime.datetime.now().strftime('%Y'))\n",
    "current_month = int(datetime.datetime.now().strftime('%m'))\n",
    "current_day = int(datetime.datetime.now(pytz.timezone('Asia/Shanghai')).strftime('%d'))\n",
    "\n",
    "end_date = datetime.datetime(current_year, current_month, current_day, 23, 59, 59).strftime('%Y-%m-%d %H:%M:%S')"
   ]
  },
  {
   "cell_type": "markdown",
   "metadata": {},
   "source": [
    "# upload"
   ]
  },
  {
   "cell_type": "code",
   "execution_count": 4,
   "metadata": {},
   "outputs": [],
   "source": [
    "# encoding=utf8\n",
    "import requests\n",
    "import urllib.request\n",
    "import json\n",
    "import time\n",
    "import datetime\n",
    "import pytz\n",
    "import re\n",
    "# import sys\n",
    "# import argparse\n",
    "from bs4 import BeautifulSoup\n"
   ]
  },
  {
   "cell_type": "code",
   "execution_count": 21,
   "metadata": {},
   "outputs": [
    {
     "name": "stdout",
     "output_type": "stream",
     "text": [
      "os.stat_result(st_mode=33206, st_ino=1407374883685141, st_dev=273028616, st_nlink=1, st_uid=0, st_gid=0, st_size=116142, st_atime=1653117636, st_mtime=1652718927, st_ctime=1652718943)\n",
      "<_io.BufferedReader name='./data/journey.jpg'>\n",
      "File Size in Bytes is 116142\n"
     ]
    }
   ],
   "source": [
    "import os\n",
    "file_name = \"./data/journey.jpg\"\n",
    "file = open(file_name ,\"rb\")\n",
    "file_stats = os.stat(file_name)\n",
    "print(file_stats)\n",
    "print(file)\n",
    "print(f'File Size in Bytes is {file_stats.st_size}')"
   ]
  },
  {
   "cell_type": "code",
   "execution_count": 45,
   "metadata": {},
   "outputs": [
    {
     "name": "stdout",
     "output_type": "stream",
     "text": [
      "Sat May 21 2022 16:02:48 GMT+0800 (中国标准时间)\n"
     ]
    }
   ],
   "source": [
    "import datetime\n",
    "import pytz\n",
    "import time\n",
    "# 获取年月日\n",
    "current_date = datetime.datetime.now().strftime('%a %b %d %Y %X')+\" GMT+0800 (中国标准时间)\"\n",
    "print(current_date)"
   ]
  }
 ],
 "metadata": {
  "interpreter": {
   "hash": "70c9adcce15a4db8a3301a513c3f0b92af9162350c52abdb933698d3dd9ceeef"
  },
  "kernelspec": {
   "display_name": "Python 3.8.12 ('LearnPytorch')",
   "language": "python",
   "name": "python3"
  },
  "language_info": {
   "codemirror_mode": {
    "name": "ipython",
    "version": 3
   },
   "file_extension": ".py",
   "mimetype": "text/x-python",
   "name": "python",
   "nbconvert_exporter": "python",
   "pygments_lexer": "ipython3",
   "version": "3.8.12"
  },
  "orig_nbformat": 4
 },
 "nbformat": 4,
 "nbformat_minor": 2
}
